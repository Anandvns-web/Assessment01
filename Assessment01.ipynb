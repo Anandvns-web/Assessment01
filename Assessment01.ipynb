﻿{
  "nbformat": 4,
  "nbformat_minor": 0,
  "metadata": {
    "colab": {
      "provenance": []
    },
    "kernelspec": {
      "name": "python3",
      "display_name": "Python 3"
    },
    "language_info": {
      "name": "python"
    }
  },
  "cells": [
    {
      "cell_type": "code",
      "execution_count": null,
      "metadata": {
        "id": "XlQYtKQb8TQv"
      },
      "outputs": [],
      "source": []
    },
    {
      "cell_type": "markdown",
      "source": [
        "1.\tWhat is Python, and why is it popular?\n",
        "Ans: Python is a programming language — a way to tell the computer what to do. It’s like giving instructions to a computer in plain English. Python is very easy to read and write, which is why it's great for beginners.\n",
        "Why is Python so popular?\n",
        "1.\tEasy to learn: The code looks simple and clean, almost like regular English.\n",
        "2.\tCan do many things: You can build websites, apps, games, analyze data, or even make robots smarter using Python.\n",
        "3.\tLots of help available: Many people use Python, so you’ll always find help online.\n",
        "4.\tUsed by big companies: Google, Netflix, Instagram, and others use Python.\n",
        "5.\tGreat for students and professionals: It’s used in schools and also in real jobs.\n",
        "2.\tWhat is an interpreter in Python?\n",
        "Ans: An interpreter is a program that reads and runs your Python code line by line.\n",
        "Explanation:\n",
        "Think of it like this:\n",
        "You write a Python program →\n",
        "The interpreter reads it one line at a time →\n",
        "It tells the computer what to do →\n",
        "The computer does it immediately.\n",
        "Example:\n",
        "You write this Python code:\n",
        "python\n",
        "print(\"Hello!\")\n",
        "The Python interpreter sees the word print, understands it means \"show this text\", and tells the computer to display:\n",
        "Hello!\n",
        "3.\tWhat are pre-defined keywords in Python?\n",
        "Ans: Pre-defined keywords in Python are special words that have a fixed meaning in the language.\n",
        "You can’t use them as variable names, function names, or anything else.\n",
        "4.\tCan keywords be used as variable names?\n",
        "Ans: No, keywords cannot be used as variable names in Python.\n",
        "Keywords are special words that Python already uses to do specific things (like if, for, def, etc.).\n",
        "If you try to use them as variable names, Python gets confused because those words already have a meaning.\n",
        "5.\tWhat is mutability in Python?\n",
        "Ans: Mutability means whether or not a value can be changed after it is created.\n",
        "Simple Definition:\n",
        "•\tMutable = Can change\n",
        "•\tImmutable = Cannot change\n",
        "6.\tWhy are lists mutable, but tuples are immutable?\n",
        "Ans: It’s by design — Python’s creators made lists mutable and tuples immutable because they are used for different purposes.\n",
        "Lists are mutable because:\n",
        "•\tThey are meant to store and change data.\n",
        "•\tYou often need to add, remove, or modify items in a list.\n",
        "Lists are like editable notepads — you can change the content anytime.\n",
        "Tuples are immutable because:\n",
        "•\tThey are used when you want fixed data that shouldn't change.\n",
        "•\tImmutability makes tuples faster and safer for certain uses, like keys in a dictionary.\n",
        "•\tTuples are like sealed boxes — once packed, you can’t change what's inside.\n",
        "\n",
        "7.\tWhat is the difference between “==” and “is” operators in Python?\n",
        "Ans: Python has two ways to compare things:\n",
        " == (equal to)\n",
        " is (identity)\n",
        "1. == checks if values are equal\n",
        "It checks if the contents of two variables are the same.\n",
        "python\n",
        "a = [1, 2, 3]\n",
        "b = [1, 2, 3]\n",
        "print(a == b)  # True — because contents are the same\n",
        "2. is checks if both are the same object in memory\n",
        "It checks if both variables point to the exact same object.\n",
        "print(a is b)  # False — because they are two different lists in memory\n",
        "8.\tWhat are logical operators in Python?\n",
        "Ans: Logical operators are used to combine multiple conditions and return either True or False.\n",
        "Python has 3 main logical operators:\n",
        "Operator\tMeaning\tExample\n",
        "and\tTrue if both conditions are True\ta > 5 and b < 10\n",
        "or\tTrue if at least one condition is True\ta > 5 or b < 10\n",
        "not\tReverses the result (True → False, False → True)\tnot a > 5\n",
        "9.\tWhat is type casting in Python?\n",
        "Ans: Type casting means changing the data type of a value from one type to another.\n",
        "Example:\n",
        "You can change:\n",
        "•\ta number → to a string\n",
        "•\ta string → to a number\n",
        "•\ta float → to an integer\n",
        "...and so on.\n",
        "10.\tWhat is the difference between implicit and explicit type casting?\n",
        "Ans: Type casting means converting one data type into another.\n",
        "There are two types:\n",
        "Implicit Type Casting (Automatic)\n",
        "Python automatically converts the type without your help.\n",
        "Example:\n",
        "python\n",
        "x = 10      # int\n",
        "y = 3.5     # float\n",
        "       result = x + y   # Python converts x to float automatically\n",
        "print(result)    # Output: 13.5\n",
        "Python saw an int + float and converted the int to float to avoid data loss.\n",
        "Explicit Type Casting (Manual)\n",
        "You tell Python to change the type using functions like int(), float(), str(), etc.\n",
        "Example:\n",
        "python\n",
        "x = \"100\"\n",
        "y = int(x)   # You manually convert string to int\n",
        "       print(y + 1)  # Output: 101\n",
        "11.\t What is the purpose of conditional statements in Python?\n",
        "Ans: Conditional statements are used to make decisions in your program.\n",
        "They help your code do different things depending on certain conditions.\n",
        "Conditional statements let Python ask questions like:\n",
        "\"If something is true, then do this. Otherwise, do something else.\"\n",
        "They control the flow of your program.\n",
        "Help in writing smart, responsive code.\n",
        "Used in real life examples like:\n",
        "•\tIf age > 18 → allow voting\n",
        "•\tIf marks > 40 → pass, else fail\n",
        "•\tIf it’s raining → carry an umbrella\n",
        "•\tCommon Conditional Statements:\n",
        "Statement\tPurpose\n",
        "if\tChecks a condition\n",
        "elif\tChecks another condition if the first is false\n",
        "else\tRuns if none of the above are true\n",
        "\n",
        "\n",
        "12.\t How does the elif statement work?\n",
        "Ans: The elif statement stands for “else if”.\n",
        "It lets you check multiple conditions, one after another.\n",
        "Explanation:\n",
        "•\tif checks the first condition.\n",
        "•\telif checks the next condition(s) if the first one is False.\n",
        "•\telse runs if none of the above conditions are True.\n",
        "13.\tWhat is the difference between for and while loops?\n",
        "Ans: Both for and while loops are used to repeat a block of code,\n",
        "but they are used in different situations.\n",
        "1. for Loop – Used when you know how many times to repeat\n",
        "It loops through a sequence like a list, string, or range.\n",
        "Example:\n",
        "python\n",
        "for i in range(5):\n",
        "    print(i)\n",
        "Output: 0 1 2 3 4\n",
        "•\tRepeats exactly 5 times.\n",
        "•\tCommonly used when looping through items.\n",
        "2. while Loop – Used when you don’t know exactly how many times to repeat\n",
        "It keeps running as long as a condition is True.\n",
        "Example:\n",
        "python\n",
        "i = 0\n",
        "while i < 5:\n",
        "    print(i)\n",
        "    i += 1\n",
        "Output: 0 1 2 3 4\n",
        "•\tYou control when it stops by updating i.\n",
        "14.\tDescribe a scenario where a while loop is more suitable than a for loop?\n",
        "Ans: When You Don't Know How Many Times to Repeat\n",
        "A while loop is best when you need to repeat something until a condition is met,\n",
        "but you don’t know in advance how many times it will take.\n",
        "Example: User Login System\n",
        "Let’s say you want a user to enter the correct password.\n",
        "You don't know how many attempts they’ll take — so you use a while loop.\n",
        "Example Code:\n",
        "python\n",
        "correct_password = \"python123\"\n",
        "user_input = \"\"\n",
        "      while user_input != correct_password:\n",
        "    user_input = input(\"Enter your password: \")\n",
        "       print(\"Access granted!\")\n",
        "Why not use a for loop here?\n",
        "Because you don’t know how many times the user will enter the wrong password.\n",
        "A for loop is not flexible for that — but a while loop will keep going until the password is correct.\n",
        "\n",
        "\n",
        "\n",
        "\n",
        "\n",
        "\n"
      ],
      "metadata": {
        "id": "YmTysvwX8c4F"
      }
    },
    {
      "cell_type": "code",
      "source": [],
      "metadata": {
        "id": "_PoUJEaj83gA"
      },
      "execution_count": null,
      "outputs": []
    },
    {
      "cell_type": "markdown",
      "source": [
        "Practical Questions\n",
        "\n",
        "1) Write a Python program to print \"Hello, World!\" ?\n"
      ],
      "metadata": {
        "id": "Wqomruty9sx_"
      }
    },
    {
      "cell_type": "code",
      "source": [
        "print(\"Hello world\")"
      ],
      "metadata": {
        "colab": {
          "base_uri": "https://localhost:8080/"
        },
        "id": "U0tKcI1-9_QQ",
        "outputId": "40a5ee1c-bb80-4ff4-8541-8a3f4d0e853c"
      },
      "execution_count": null,
      "outputs": [
        {
          "output_type": "stream",
          "name": "stdout",
          "text": [
            "Hello world\n"
          ]
        }
      ]
    },
    {
      "cell_type": "markdown",
      "source": [
        "2)Write a Python program that displays your name and age ?\n"
      ],
      "metadata": {
        "id": "fsIbpF3m-MJ_"
      }
    },
    {
      "cell_type": "code",
      "source": [
        "user_input = input(\"please enter your name: \")\n",
        "user_input = input(\"please enteryour age: \")\n",
        "print(user_input)"
      ],
      "metadata": {
        "colab": {
          "base_uri": "https://localhost:8080/"
        },
        "id": "G-NY6kA2-QW2",
        "outputId": "d17b19d2-81ab-4f83-cf90-a3275991c707"
      },
      "execution_count": null,
      "outputs": [
        {
          "output_type": "stream",
          "name": "stdout",
          "text": [
            "please enter your name: Anand Sharma\n",
            "please enteryour age: 31\n",
            "31\n"
          ]
        }
      ]
    },
    {
      "cell_type": "markdown",
      "source": [
        "3)Write code to print all the pre-defined keywords in Python using the keyword library?\n"
      ],
      "metadata": {
        "id": "n3ZEFmtA-eVX"
      }
    },
    {
      "cell_type": "code",
      "source": [
        "help(\"keywords\")"
      ],
      "metadata": {
        "colab": {
          "base_uri": "https://localhost:8080/"
        },
        "id": "jK9gjk5N-i-_",
        "outputId": "92afce48-4632-4297-cfae-9e7e7f8732dd"
      },
      "execution_count": null,
      "outputs": [
        {
          "output_type": "stream",
          "name": "stdout",
          "text": [
            "\n",
            "Here is a list of the Python keywords.  Enter any keyword to get more help.\n",
            "\n",
            "False               class               from                or\n",
            "None                continue            global              pass\n",
            "True                def                 if                  raise\n",
            "and                 del                 import              return\n",
            "as                  elif                in                  try\n",
            "assert              else                is                  while\n",
            "async               except              lambda              with\n",
            "await               finally             nonlocal            yield\n",
            "break               for                 not                 \n",
            "\n"
          ]
        }
      ]
    },
    {
      "cell_type": "markdown",
      "source": [],
      "metadata": {
        "id": "FsXEZWVn-reG"
      }
    },
    {
      "cell_type": "code",
      "source": [
        "x = 6\n",
        "y = 6\n",
        "if x == 6:\n",
        "  print(\"equel\")\n",
        "elif x > 6:\n",
        "    print(\"greater\")\n",
        "else:\n",
        "  print(\"lower\")"
      ],
      "metadata": {
        "colab": {
          "base_uri": "https://localhost:8080/"
        },
        "id": "s7--zzYl_CFQ",
        "outputId": "24c9df67-a2c0-4314-d9cb-577a587a2235"
      },
      "execution_count": null,
      "outputs": [
        {
          "output_type": "stream",
          "name": "stdout",
          "text": [
            "equel\n"
          ]
        }
      ]
    },
    {
      "cell_type": "code",
      "source": [
        "if 3 > 2:\n",
        "  print(\"greater\")"
      ],
      "metadata": {
        "colab": {
          "base_uri": "https://localhost:8080/"
        },
        "id": "9g3In9kI-yyG",
        "outputId": "b158a0c9-d09f-4ab5-bc5b-327704122dd2"
      },
      "execution_count": null,
      "outputs": [
        {
          "output_type": "stream",
          "name": "stdout",
          "text": [
            "greater\n"
          ]
        }
      ]
    },
    {
      "cell_type": "markdown",
      "source": [
        "4)Write a program that checks if a given word is a Python keyword.\n"
      ],
      "metadata": {
        "id": "DlzaNXSU-zc4"
      }
    },
    {
      "cell_type": "code",
      "source": [
        "import keyword\n",
        "s=input(\"enter any word: \")\n",
        "if keyword.iskeyword(s):\n",
        "  print('s, is a keyword')\n",
        "else:\n",
        "  print('s, is not a keyword')"
      ],
      "metadata": {
        "colab": {
          "base_uri": "https://localhost:8080/"
        },
        "id": "2ObJhmHM_I0C",
        "outputId": "d3579adf-d4c7-4db9-ab6b-5cfb7a18a0c9"
      },
      "execution_count": null,
      "outputs": [
        {
          "output_type": "stream",
          "name": "stdout",
          "text": [
            "enter any word: Apple\n",
            "s, is not a keyword\n"
          ]
        }
      ]
    },
    {
      "cell_type": "markdown",
      "source": [
        "5)Create a list and tuple in Python, and demonstrate how attempting to change an element works differently for each.\n"
      ],
      "metadata": {
        "id": "foit6aAg_luD"
      }
    },
    {
      "cell_type": "code",
      "source": [
        "store_list1 = [\"pencil\",\"bule pen\",\"black pen\",\"whitner\",\"5\",\"false\"]\n",
        "type(store_list1)"
      ],
      "metadata": {
        "colab": {
          "base_uri": "https://localhost:8080/"
        },
        "id": "TpSZkaKK_ptZ",
        "outputId": "938c32b2-fb63-4421-87cb-0193a426582f"
      },
      "execution_count": null,
      "outputs": [
        {
          "output_type": "execute_result",
          "data": {
            "text/plain": [
              "list"
            ]
          },
          "metadata": {},
          "execution_count": 7
        }
      ]
    },
    {
      "cell_type": "code",
      "source": [
        "store_list1 = [\"pencil\",\"bule pen\",\"black pen\",\"whitner\",\"5\",\"false\"]\n",
        "store_list1.append(\"red pen\")\n",
        "print(store_list1)"
      ],
      "metadata": {
        "colab": {
          "base_uri": "https://localhost:8080/"
        },
        "id": "ULdoY5dO_yIg",
        "outputId": "67df5cb0-5e06-447e-e7b0-3a2a407dc0b6"
      },
      "execution_count": null,
      "outputs": [
        {
          "output_type": "stream",
          "name": "stdout",
          "text": [
            "['pencil', 'bule pen', 'black pen', 'whitner', '5', 'false', 'red pen']\n"
          ]
        }
      ]
    },
    {
      "cell_type": "code",
      "source": [
        "store_list1 = [\"pencil\",\"bule pen\",\"black pen\",\"whitner\",\"5\",\"false\"]\n",
        "del store_list1[5]\n",
        "print(store_list1)"
      ],
      "metadata": {
        "colab": {
          "base_uri": "https://localhost:8080/"
        },
        "id": "v-_WyPG2_2E1",
        "outputId": "1124e2f4-ceb6-4e26-dac3-c81049d2ef7d"
      },
      "execution_count": null,
      "outputs": [
        {
          "output_type": "stream",
          "name": "stdout",
          "text": [
            "['pencil', 'bule pen', 'black pen', 'whitner', '5']\n"
          ]
        }
      ]
    },
    {
      "cell_type": "code",
      "source": [
        "my_tuple = (\"mango\",\"ogange\",\"grapes\",\"papaya\",\"coconut\",5)\n",
        "print(my_tuple)"
      ],
      "metadata": {
        "colab": {
          "base_uri": "https://localhost:8080/"
        },
        "id": "WpVrR2vz_5Ot",
        "outputId": "58472dab-cb66-4b3a-93a3-4c319f03eb91"
      },
      "execution_count": null,
      "outputs": [
        {
          "output_type": "stream",
          "name": "stdout",
          "text": [
            "('mango', 'ogange', 'grapes', 'papaya', 'coconut', 5)\n"
          ]
        }
      ]
    },
    {
      "cell_type": "code",
      "source": [
        "tuple1 = (\"ram\",\"shyam\",\"ramu\",\"raju\",\"tapu\")\n",
        "tuple2 = list(tuple1)\n",
        "tuple2.append(\"banana\")\n",
        "tuple1 = tuple(tuple2)\n",
        "print(tuple1)"
      ],
      "metadata": {
        "colab": {
          "base_uri": "https://localhost:8080/"
        },
        "id": "TQTGgYzY_8jX",
        "outputId": "7035faa6-b0ba-441f-e7ce-e59ac5061a0a"
      },
      "execution_count": null,
      "outputs": [
        {
          "output_type": "stream",
          "name": "stdout",
          "text": [
            "('ram', 'shyam', 'ramu', 'raju', 'tapu', 'banana')\n"
          ]
        }
      ]
    },
    {
      "cell_type": "markdown",
      "source": [
        "6)Write a function to demonstrate the behavior of mutable and immutable arguments\n"
      ],
      "metadata": {
        "id": "04XO-M2xAAIf"
      }
    },
    {
      "cell_type": "code",
      "source": [
        "tuple1 = (\"ram\",\"shyam\",\"ramu\",\"raju\",\"tapu\")\n",
        "tuple2 = list(tuple1)\n",
        "tuple2.remove(\"ramu\")\n",
        "tulpe1 = tuple(tuple2)\n",
        "print(tuple1)"
      ],
      "metadata": {
        "colab": {
          "base_uri": "https://localhost:8080/"
        },
        "id": "R-n9ACDvABNo",
        "outputId": "f3e35e53-a7d5-45c9-f8e9-ada4ee7b2c05"
      },
      "execution_count": null,
      "outputs": [
        {
          "output_type": "stream",
          "name": "stdout",
          "text": [
            "('ram', 'shyam', 'ramu', 'raju', 'tapu')\n"
          ]
        }
      ]
    },
    {
      "cell_type": "markdown",
      "source": [
        "7)Write a program that performs basic arithmetic operations on two user-input numbers\n"
      ],
      "metadata": {
        "id": "rrktbiuPAHBb"
      }
    },
    {
      "cell_type": "code",
      "source": [
        "x = 7\n",
        "y = 5\n",
        "add = x*y\n",
        "print(add)\n"
      ],
      "metadata": {
        "colab": {
          "base_uri": "https://localhost:8080/"
        },
        "id": "5OswL3Z-AKzu",
        "outputId": "89a85b80-6e38-4a4e-a8d6-1c35fe8eb2f7"
      },
      "execution_count": null,
      "outputs": [
        {
          "output_type": "stream",
          "name": "stdout",
          "text": [
            "35\n"
          ]
        }
      ]
    },
    {
      "cell_type": "markdown",
      "source": [
        "8)Write a program to demonstrate the use of logical operators.\n"
      ],
      "metadata": {
        "id": "5Q9OMiv2AREY"
      }
    },
    {
      "cell_type": "code",
      "source": [
        "False and True"
      ],
      "metadata": {
        "colab": {
          "base_uri": "https://localhost:8080/"
        },
        "id": "jWLvRdDUAS_l",
        "outputId": "b061687a-85ab-41e9-febd-3c97f9f4dfa7"
      },
      "execution_count": null,
      "outputs": [
        {
          "output_type": "execute_result",
          "data": {
            "text/plain": [
              "False"
            ]
          },
          "metadata": {},
          "execution_count": 14
        }
      ]
    },
    {
      "cell_type": "code",
      "source": [
        "False or True"
      ],
      "metadata": {
        "colab": {
          "base_uri": "https://localhost:8080/"
        },
        "id": "w394MmPeAX7o",
        "outputId": "8ae3a826-487f-4b62-f8cf-160af49d6e85"
      },
      "execution_count": null,
      "outputs": [
        {
          "output_type": "execute_result",
          "data": {
            "text/plain": [
              "True"
            ]
          },
          "metadata": {},
          "execution_count": 15
        }
      ]
    },
    {
      "cell_type": "code",
      "source": [
        "True and True"
      ],
      "metadata": {
        "colab": {
          "base_uri": "https://localhost:8080/"
        },
        "id": "nXhXqjMDAbD2",
        "outputId": "f6f304ca-3f17-4e3d-9b65-bc83690cb4c9"
      },
      "execution_count": null,
      "outputs": [
        {
          "output_type": "execute_result",
          "data": {
            "text/plain": [
              "True"
            ]
          },
          "metadata": {},
          "execution_count": 16
        }
      ]
    },
    {
      "cell_type": "markdown",
      "source": [
        "9)Write a Python program to convert user input from string to integer, float, and boolean types."
      ],
      "metadata": {
        "id": "q4I1Ic3RAeqH"
      }
    },
    {
      "cell_type": "code",
      "source": [
        "x = \"6\"\n",
        "y = 7\n",
        "int(x)+y"
      ],
      "metadata": {
        "colab": {
          "base_uri": "https://localhost:8080/"
        },
        "id": "oqBy-2HBAfqa",
        "outputId": "a680c6ae-0589-4e59-cb80-6d3885281515"
      },
      "execution_count": null,
      "outputs": [
        {
          "output_type": "execute_result",
          "data": {
            "text/plain": [
              "13"
            ]
          },
          "metadata": {},
          "execution_count": 17
        }
      ]
    },
    {
      "cell_type": "code",
      "source": [
        "x = \"6\"\n",
        "print(type(x))\n",
        "print(type(int(x)))"
      ],
      "metadata": {
        "colab": {
          "base_uri": "https://localhost:8080/"
        },
        "id": "vbsRcU1XAlmL",
        "outputId": "c048f879-3f32-47b4-fdde-bc003bb5d70a"
      },
      "execution_count": null,
      "outputs": [
        {
          "output_type": "stream",
          "name": "stdout",
          "text": [
            "<class 'str'>\n",
            "<class 'int'>\n"
          ]
        }
      ]
    },
    {
      "cell_type": "code",
      "source": [
        "x = 6.5\n",
        "print(x)\n",
        "print(type(x))\n",
        "print(type(int(x)))\n",
        "int(x)"
      ],
      "metadata": {
        "colab": {
          "base_uri": "https://localhost:8080/"
        },
        "id": "OYMGqE6CApss",
        "outputId": "6326d433-ea27-473f-bd32-663306a2a9b8"
      },
      "execution_count": null,
      "outputs": [
        {
          "output_type": "stream",
          "name": "stdout",
          "text": [
            "6.5\n",
            "<class 'float'>\n",
            "<class 'int'>\n"
          ]
        },
        {
          "output_type": "execute_result",
          "data": {
            "text/plain": [
              "6"
            ]
          },
          "metadata": {},
          "execution_count": 19
        }
      ]
    },
    {
      "cell_type": "code",
      "source": [
        "y = 8.4\n",
        "type(y)\n",
        "float_value = int(y)\n",
        "type(float_value)"
      ],
      "metadata": {
        "colab": {
          "base_uri": "https://localhost:8080/"
        },
        "id": "NyZl4FWTAssb",
        "outputId": "60b8bb35-da10-460a-859b-c2c16f5e6909"
      },
      "execution_count": null,
      "outputs": [
        {
          "output_type": "execute_result",
          "data": {
            "text/plain": [
              "int"
            ]
          },
          "metadata": {},
          "execution_count": 20
        }
      ]
    },
    {
      "cell_type": "code",
      "source": [
        "\n",
        "bool(\"5\")"
      ],
      "metadata": {
        "colab": {
          "base_uri": "https://localhost:8080/"
        },
        "id": "UrWnV5nJAyWu",
        "outputId": "edaa9be5-1d92-4b6f-e4de-273d96d29b81"
      },
      "execution_count": null,
      "outputs": [
        {
          "output_type": "execute_result",
          "data": {
            "text/plain": [
              "True"
            ]
          },
          "metadata": {},
          "execution_count": 21
        }
      ]
    },
    {
      "cell_type": "code",
      "source": [
        "bool(0)"
      ],
      "metadata": {
        "colab": {
          "base_uri": "https://localhost:8080/"
        },
        "id": "Z7PSSLCcA2A1",
        "outputId": "58b411ad-b2b5-4271-a34a-4a11e87397bc"
      },
      "execution_count": null,
      "outputs": [
        {
          "output_type": "execute_result",
          "data": {
            "text/plain": [
              "False"
            ]
          },
          "metadata": {},
          "execution_count": 22
        }
      ]
    },
    {
      "cell_type": "code",
      "source": [
        "bool(-6)"
      ],
      "metadata": {
        "colab": {
          "base_uri": "https://localhost:8080/"
        },
        "id": "wBXqOVV0A5rv",
        "outputId": "7b563988-6445-4836-9f55-fb114426760b"
      },
      "execution_count": null,
      "outputs": [
        {
          "output_type": "execute_result",
          "data": {
            "text/plain": [
              "True"
            ]
          },
          "metadata": {},
          "execution_count": 23
        }
      ]
    },
    {
      "cell_type": "markdown",
      "source": [
        "10)Write code to demonstrate type casting with list elements"
      ],
      "metadata": {
        "id": "CRZgp5ZiA9XX"
      }
    },
    {
      "cell_type": "code",
      "source": [
        "x = [\"1\",\"2\",\"3\",\"4\",\"5\",\"6\"]\n",
        "list(map(int, x))"
      ],
      "metadata": {
        "colab": {
          "base_uri": "https://localhost:8080/"
        },
        "id": "nXN2065jA-A8",
        "outputId": "192149fe-3d1b-4d6c-95cb-2fae0c378b85"
      },
      "execution_count": null,
      "outputs": [
        {
          "output_type": "execute_result",
          "data": {
            "text/plain": [
              "[1, 2, 3, 4, 5, 6]"
            ]
          },
          "metadata": {},
          "execution_count": 24
        }
      ]
    },
    {
      "cell_type": "markdown",
      "source": [
        "11)Write a program that checks if a number is positive, negative, or zero"
      ],
      "metadata": {
        "id": "Cqn3z-OIBDCy"
      }
    },
    {
      "cell_type": "code",
      "source": [
        "x=int(input(\"enter number\"))\n",
        "if x>0:\n",
        "  print(\"Positive\")\n",
        "elif x<0:\n",
        "   print(\"Negative\")\n",
        "else:\n",
        "   print(\"zero\")"
      ],
      "metadata": {
        "colab": {
          "base_uri": "https://localhost:8080/"
        },
        "id": "Da9o2ZyvBEH4",
        "outputId": "5f094411-ebf7-4a28-c0ed-ab93136772fd"
      },
      "execution_count": null,
      "outputs": [
        {
          "output_type": "stream",
          "name": "stdout",
          "text": [
            "enter number7\n",
            "Positive\n"
          ]
        }
      ]
    },
    {
      "cell_type": "markdown",
      "source": [
        "12)Write a for loop to print numbers from 1 to 10."
      ],
      "metadata": {
        "id": "UNo4o4xxBNaN"
      }
    },
    {
      "cell_type": "code",
      "source": [
        "for i in range(1,11):\n",
        "  print(i)"
      ],
      "metadata": {
        "colab": {
          "base_uri": "https://localhost:8080/"
        },
        "id": "peZVLKINBOX2",
        "outputId": "d34b12ad-72f4-47a5-f1b1-2769cc4d9108"
      },
      "execution_count": null,
      "outputs": [
        {
          "output_type": "stream",
          "name": "stdout",
          "text": [
            "1\n",
            "2\n",
            "3\n",
            "4\n",
            "5\n",
            "6\n",
            "7\n",
            "8\n",
            "9\n",
            "10\n"
          ]
        }
      ]
    },
    {
      "cell_type": "markdown",
      "source": [
        "13)Write a Python program to find the sum of all even numbers between 1 and 50."
      ],
      "metadata": {
        "id": "mCI_p0fOBUF1"
      }
    },
    {
      "cell_type": "code",
      "source": [
        "i=1\n",
        "sum=0\n",
        "while(i<=100):\n",
        "  if(i%2==0):\n",
        "    sum=sum+i\n",
        "  i=i+1\n",
        "  print(\"sum of even numbers from 1 to 100 =\",sum)"
      ],
      "metadata": {
        "colab": {
          "base_uri": "https://localhost:8080/"
        },
        "id": "6b516RONBU7A",
        "outputId": "77ed16c5-fdb0-4289-9a0a-f0a1bb252ada"
      },
      "execution_count": null,
      "outputs": [
        {
          "output_type": "stream",
          "name": "stdout",
          "text": [
            "sum of even numbers from 1 to 100 = 0\n",
            "sum of even numbers from 1 to 100 = 2\n",
            "sum of even numbers from 1 to 100 = 2\n",
            "sum of even numbers from 1 to 100 = 6\n",
            "sum of even numbers from 1 to 100 = 6\n",
            "sum of even numbers from 1 to 100 = 12\n",
            "sum of even numbers from 1 to 100 = 12\n",
            "sum of even numbers from 1 to 100 = 20\n",
            "sum of even numbers from 1 to 100 = 20\n",
            "sum of even numbers from 1 to 100 = 30\n",
            "sum of even numbers from 1 to 100 = 30\n",
            "sum of even numbers from 1 to 100 = 42\n",
            "sum of even numbers from 1 to 100 = 42\n",
            "sum of even numbers from 1 to 100 = 56\n",
            "sum of even numbers from 1 to 100 = 56\n",
            "sum of even numbers from 1 to 100 = 72\n",
            "sum of even numbers from 1 to 100 = 72\n",
            "sum of even numbers from 1 to 100 = 90\n",
            "sum of even numbers from 1 to 100 = 90\n",
            "sum of even numbers from 1 to 100 = 110\n",
            "sum of even numbers from 1 to 100 = 110\n",
            "sum of even numbers from 1 to 100 = 132\n",
            "sum of even numbers from 1 to 100 = 132\n",
            "sum of even numbers from 1 to 100 = 156\n",
            "sum of even numbers from 1 to 100 = 156\n",
            "sum of even numbers from 1 to 100 = 182\n",
            "sum of even numbers from 1 to 100 = 182\n",
            "sum of even numbers from 1 to 100 = 210\n",
            "sum of even numbers from 1 to 100 = 210\n",
            "sum of even numbers from 1 to 100 = 240\n",
            "sum of even numbers from 1 to 100 = 240\n",
            "sum of even numbers from 1 to 100 = 272\n",
            "sum of even numbers from 1 to 100 = 272\n",
            "sum of even numbers from 1 to 100 = 306\n",
            "sum of even numbers from 1 to 100 = 306\n",
            "sum of even numbers from 1 to 100 = 342\n",
            "sum of even numbers from 1 to 100 = 342\n",
            "sum of even numbers from 1 to 100 = 380\n",
            "sum of even numbers from 1 to 100 = 380\n",
            "sum of even numbers from 1 to 100 = 420\n",
            "sum of even numbers from 1 to 100 = 420\n",
            "sum of even numbers from 1 to 100 = 462\n",
            "sum of even numbers from 1 to 100 = 462\n",
            "sum of even numbers from 1 to 100 = 506\n",
            "sum of even numbers from 1 to 100 = 506\n",
            "sum of even numbers from 1 to 100 = 552\n",
            "sum of even numbers from 1 to 100 = 552\n",
            "sum of even numbers from 1 to 100 = 600\n",
            "sum of even numbers from 1 to 100 = 600\n",
            "sum of even numbers from 1 to 100 = 650\n",
            "sum of even numbers from 1 to 100 = 650\n",
            "sum of even numbers from 1 to 100 = 702\n",
            "sum of even numbers from 1 to 100 = 702\n",
            "sum of even numbers from 1 to 100 = 756\n",
            "sum of even numbers from 1 to 100 = 756\n",
            "sum of even numbers from 1 to 100 = 812\n",
            "sum of even numbers from 1 to 100 = 812\n",
            "sum of even numbers from 1 to 100 = 870\n",
            "sum of even numbers from 1 to 100 = 870\n",
            "sum of even numbers from 1 to 100 = 930\n",
            "sum of even numbers from 1 to 100 = 930\n",
            "sum of even numbers from 1 to 100 = 992\n",
            "sum of even numbers from 1 to 100 = 992\n",
            "sum of even numbers from 1 to 100 = 1056\n",
            "sum of even numbers from 1 to 100 = 1056\n",
            "sum of even numbers from 1 to 100 = 1122\n",
            "sum of even numbers from 1 to 100 = 1122\n",
            "sum of even numbers from 1 to 100 = 1190\n",
            "sum of even numbers from 1 to 100 = 1190\n",
            "sum of even numbers from 1 to 100 = 1260\n",
            "sum of even numbers from 1 to 100 = 1260\n",
            "sum of even numbers from 1 to 100 = 1332\n",
            "sum of even numbers from 1 to 100 = 1332\n",
            "sum of even numbers from 1 to 100 = 1406\n",
            "sum of even numbers from 1 to 100 = 1406\n",
            "sum of even numbers from 1 to 100 = 1482\n",
            "sum of even numbers from 1 to 100 = 1482\n",
            "sum of even numbers from 1 to 100 = 1560\n",
            "sum of even numbers from 1 to 100 = 1560\n",
            "sum of even numbers from 1 to 100 = 1640\n",
            "sum of even numbers from 1 to 100 = 1640\n",
            "sum of even numbers from 1 to 100 = 1722\n",
            "sum of even numbers from 1 to 100 = 1722\n",
            "sum of even numbers from 1 to 100 = 1806\n",
            "sum of even numbers from 1 to 100 = 1806\n",
            "sum of even numbers from 1 to 100 = 1892\n",
            "sum of even numbers from 1 to 100 = 1892\n",
            "sum of even numbers from 1 to 100 = 1980\n",
            "sum of even numbers from 1 to 100 = 1980\n",
            "sum of even numbers from 1 to 100 = 2070\n",
            "sum of even numbers from 1 to 100 = 2070\n",
            "sum of even numbers from 1 to 100 = 2162\n",
            "sum of even numbers from 1 to 100 = 2162\n",
            "sum of even numbers from 1 to 100 = 2256\n",
            "sum of even numbers from 1 to 100 = 2256\n",
            "sum of even numbers from 1 to 100 = 2352\n",
            "sum of even numbers from 1 to 100 = 2352\n",
            "sum of even numbers from 1 to 100 = 2450\n",
            "sum of even numbers from 1 to 100 = 2450\n",
            "sum of even numbers from 1 to 100 = 2550\n"
          ]
        }
      ]
    },
    {
      "cell_type": "markdown",
      "source": [
        "14)Write a program to reverse a string using a while loop."
      ],
      "metadata": {
        "id": "mVr-bH32Ba14"
      }
    },
    {
      "cell_type": "code",
      "source": [
        "s=input('enter some string to reverse:')\n",
        "output=''\n",
        "i=len(s)-1\n",
        "while i>=0:\n",
        "  output=output+s[i]\n",
        "  i=i-1\n",
        "  print(output)"
      ],
      "metadata": {
        "colab": {
          "base_uri": "https://localhost:8080/"
        },
        "id": "nNrxWrC8BcL1",
        "outputId": "51eba9cf-489f-4875-fa38-19f3ef9bd62b"
      },
      "execution_count": null,
      "outputs": [
        {
          "output_type": "stream",
          "name": "stdout",
          "text": [
            "enter some string to reverse:Anand\n",
            "d\n",
            "dn\n",
            "dna\n",
            "dnan\n",
            "dnanA\n"
          ]
        }
      ]
    },
    {
      "cell_type": "markdown",
      "source": [
        "15)Write a Python program to calculate the factorial of a number provided by the user using a while loop."
      ],
      "metadata": {
        "id": "jfsVOQ78BlOc"
      }
    },
    {
      "cell_type": "code",
      "source": [
        "num =int(input(\"enter a number : \"))\n",
        "fact = 1\n",
        "\n",
        "while(num !=0):\n",
        "  fact = fact * num\n",
        "  num = num - 1\n",
        "  print(fact)"
      ],
      "metadata": {
        "colab": {
          "base_uri": "https://localhost:8080/"
        },
        "id": "INXhKpZZBndR",
        "outputId": "229de463-83f9-4b37-c555-6c757778a563"
      },
      "execution_count": null,
      "outputs": [
        {
          "output_type": "stream",
          "name": "stdout",
          "text": [
            "enter a number : 9\n",
            "9\n",
            "72\n",
            "504\n",
            "3024\n",
            "15120\n",
            "60480\n",
            "181440\n",
            "362880\n",
            "362880\n"
          ]
        }
      ]
    }
  ]
}
